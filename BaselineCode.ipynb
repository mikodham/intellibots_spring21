{
  "nbformat": 4,
  "nbformat_minor": 0,
  "metadata": {
    "colab": {
      "name": "BaselineCode.ipynb",
      "provenance": [],
      "collapsed_sections": [],
      "toc_visible": true,
      "authorship_tag": "ABX9TyNfLYjVUAI9g+eQytY6Ma61",
      "include_colab_link": true
    },
    "kernelspec": {
      "name": "python3",
      "display_name": "Python 3"
    },
    "language_info": {
      "name": "python"
    }
  },
  "cells": [
    {
      "cell_type": "markdown",
      "metadata": {
        "id": "view-in-github",
        "colab_type": "text"
      },
      "source": [
        "<a href=\"https://colab.research.google.com/github/mikodham/intellibots_spring21/blob/main/BaselineCode.ipynb\" target=\"_parent\"><img src=\"https://colab.research.google.com/assets/colab-badge.svg\" alt=\"Open In Colab\"/></a>"
      ]
    },
    {
      "cell_type": "code",
      "metadata": {
        "id": "kbcfvm7SGDda",
        "colab": {
          "base_uri": "https://localhost:8080/"
        },
        "outputId": "dae8c07a-895f-42e5-88c0-d2be234f23a3"
      },
      "source": [
        "#REQUIREMENT, #don't forget to turn on gpu\n",
        "!pip3 install nltk sklearn gensim xgboost keras\n"
      ],
      "execution_count": 1,
      "outputs": [
        {
          "output_type": "stream",
          "text": [
            "Requirement already satisfied: nltk in /usr/local/lib/python3.7/dist-packages (3.2.5)\n",
            "Requirement already satisfied: sklearn in /usr/local/lib/python3.7/dist-packages (0.0)\n",
            "Requirement already satisfied: gensim in /usr/local/lib/python3.7/dist-packages (3.6.0)\n",
            "Requirement already satisfied: xgboost in /usr/local/lib/python3.7/dist-packages (0.90)\n",
            "Requirement already satisfied: keras in /usr/local/lib/python3.7/dist-packages (2.4.3)\n",
            "Requirement already satisfied: six in /usr/local/lib/python3.7/dist-packages (from nltk) (1.15.0)\n",
            "Requirement already satisfied: scikit-learn in /usr/local/lib/python3.7/dist-packages (from sklearn) (0.22.2.post1)\n",
            "Requirement already satisfied: scipy>=0.18.1 in /usr/local/lib/python3.7/dist-packages (from gensim) (1.4.1)\n",
            "Requirement already satisfied: smart-open>=1.2.1 in /usr/local/lib/python3.7/dist-packages (from gensim) (5.0.0)\n",
            "Requirement already satisfied: numpy>=1.11.3 in /usr/local/lib/python3.7/dist-packages (from gensim) (1.19.5)\n",
            "Requirement already satisfied: pyyaml in /usr/local/lib/python3.7/dist-packages (from keras) (3.13)\n",
            "Requirement already satisfied: h5py in /usr/local/lib/python3.7/dist-packages (from keras) (2.10.0)\n",
            "Requirement already satisfied: joblib>=0.11 in /usr/local/lib/python3.7/dist-packages (from scikit-learn->sklearn) (1.0.1)\n"
          ],
          "name": "stdout"
        }
      ]
    },
    {
      "cell_type": "code",
      "metadata": {
        "id": "2fItHjU0C-8F"
      },
      "source": [
        "try:\n",
        "    %tensorflow_version 2.x\n",
        "except Exception:\n",
        "    pass\n",
        "import tensorflow as tf\n",
        "\n",
        "import os\n",
        "import numpy as np\n",
        "import matplotlib.pyplot as plt\n",
        "import pandas as pd\n",
        "import pprint"
      ],
      "execution_count": 103,
      "outputs": []
    },
    {
      "cell_type": "markdown",
      "metadata": {
        "id": "6APXtMHIJ43o"
      },
      "source": [
        "#PREPROCESSING-Miko\n",
        "1. Download Dataset\n",
        "2. Load Dataset\n",
        "3. Pre-process sentence into features\n",
        "\n"
      ]
    },
    {
      "cell_type": "markdown",
      "metadata": {
        "id": "wdnpMefR4FNh"
      },
      "source": [
        "###1. Load Dataset"
      ]
    },
    {
      "cell_type": "code",
      "metadata": {
        "id": "Ube4tF_nAFjV",
        "colab": {
          "base_uri": "https://localhost:8080/"
        },
        "outputId": "d8d3f26d-f62a-42d7-cfaf-9b6b576c01ff"
      },
      "source": [
        "# 1st option, upload on ur gdrive\n",
        "# from google.colab import files\n",
        "# files.upload()\n",
        "# 2nd option, just drag the folder from your folder to drive/content/\n",
        "\n",
        "\n",
        "# 3rd option, git clone\n",
        "!pwd \n",
        "# !rm -rf intellibots_spring21 # FOR UPDATING DATASET DO NOT RUN THIS LINE\n",
        "!git clone https://github.com/mikodham/intellibots_spring21/"
      ],
      "execution_count": 8,
      "outputs": [
        {
          "output_type": "stream",
          "text": [
            "/content\n",
            "Cloning into 'intellibots_spring21'...\n",
            "remote: Enumerating objects: 24, done.\u001b[K\n",
            "remote: Counting objects: 100% (24/24), done.\u001b[K\n",
            "remote: Compressing objects: 100% (20/20), done.\u001b[K\n",
            "remote: Total 24 (delta 4), reused 15 (delta 2), pack-reused 0\u001b[K\n",
            "Unpacking objects: 100% (24/24), done.\n"
          ],
          "name": "stdout"
        }
      ]
    },
    {
      "cell_type": "code",
      "metadata": {
        "id": "RxOfCr1P4AhI"
      },
      "source": [
        "DATA_FOLDER = '/content/intellibots_spring21/Dataset/'\n",
        "\n",
        "def load_data(dataset_name):\n",
        "    \"\"\"\n",
        "    Load data for NN models, with under sampling from Twitter dataset\n",
        "    :param dataset_name: name of dataset\n",
        "    :return: X, y\n",
        "    \"\"\"\n",
        "    print('Loading text dataset')\n",
        "    if dataset_name == 'twitter':\n",
        "      file_name = DATA_FOLDER + 'sample_data_2.xlsx'\n",
        "      df = pd.read_excel(file_name)\n",
        "      df = df.dropna()\n",
        "      # For balancing #of\n",
        "      # df_pos = df.loc[df['y'] == 1]\n",
        "      # df_neg = df.loc[df['y'] == 0]\n",
        "      # df = pd.concat([df_pos, df_neg.sample(len(df_pos['y']))]) # for balancing\n",
        "      # df = df.sample(frac=1) # can be used for separating train, test later\n",
        "      df=df.drop_duplicates() #remove duplicate sentences\n",
        "      print(df)\n",
        "      X = df['tweets'].to_numpy()\n",
        "      y = df['y'].to_numpy()\n",
        "      return X, y\n",
        "    elif dataset_name == 'reddit':\n",
        "      file_name = DATA_FOLDER + 'sample_data_1.xlsx'\n",
        "      df = pd.read_excel(file_name)\n",
        "      df = df.dropna()\n",
        "      df=df.drop_duplicates() #remove duplicate sentences\n",
        "      print(df)\n",
        "      x1 = df['title'].to_numpy()\n",
        "      x2 = df['usertext'].to_numpy()\n",
        "      y = df['y'].to_numpy()\n",
        "      return (x1, x2), y\n",
        "    else:\n",
        "      raise ValueError(\"Error: unrecognized dataset\")\n"
      ],
      "execution_count": 92,
      "outputs": []
    },
    {
      "cell_type": "code",
      "metadata": {
        "colab": {
          "base_uri": "https://localhost:8080/"
        },
        "id": "480uV37K4cAd",
        "outputId": "540c1f9e-a490-49ce-91a6-0fb6609a8351"
      },
      "source": [
        "X, y = load_data(dataset_name='reddit') # \"args_lstm.dataset\"\n",
        "# print(X[:5])"
      ],
      "execution_count": 99,
      "outputs": [
        {
          "output_type": "stream",
          "text": [
            "Loading text dataset\n",
            "                            title  ...  y\n",
            "0           I want to end my life  ...  1\n",
            "1  Call suicide hotline for help   ...  0\n",
            "2                I love this song  ...  0\n",
            "3  I will commit suicide tomorrow  ...  1\n",
            "\n",
            "[4 rows x 3 columns]\n",
            "(array(['I want to end my life', 'Call suicide hotline for help ',\n",
            "       'I love this song', 'I will commit suicide tomorrow'], dtype=object), array([\"I'm a loser. I don't want to live.\",\n",
            "       'Don’t give up. Try to make change. Call the hotline if you need help.',\n",
            "       'It sounds great.', \"I'll never wake up the day after tomorrow.\"],\n",
            "      dtype=object))\n"
          ],
          "name": "stdout"
        }
      ]
    },
    {
      "cell_type": "code",
      "metadata": {
        "id": "kJwxNS3eEUEQ"
      },
      "source": [
        ""
      ],
      "execution_count": null,
      "outputs": []
    },
    {
      "cell_type": "markdown",
      "metadata": {
        "id": "kUdww3ymJ_DH"
      },
      "source": [
        "#RNN"
      ]
    },
    {
      "cell_type": "code",
      "metadata": {
        "id": "0lLsAQHfKFQG"
      },
      "source": [
        ""
      ],
      "execution_count": null,
      "outputs": []
    },
    {
      "cell_type": "markdown",
      "metadata": {
        "id": "Nbc-_w18KBat"
      },
      "source": [
        "#LSTM"
      ]
    },
    {
      "cell_type": "code",
      "metadata": {
        "id": "JL3TLLAYE5Q6"
      },
      "source": [
        ""
      ],
      "execution_count": null,
      "outputs": []
    },
    {
      "cell_type": "code",
      "metadata": {
        "id": "UMVsARm1KFou"
      },
      "source": [
        "def build_LSTM(args):\n",
        "    inp = Input(shape=(args.max_seq_len, ))\n",
        "    x = Embedding(input_dim=args.max_num_words, output_dim=args.embedding_dim)(inp)\n",
        "    x = LSTM(units=args.lstm_units, activation='tanh', dropout=args.dropout_rate, return_sequences=True)(x)\n",
        "    x = GlobalMaxPool1D()(x)\n",
        "    x = Dropout(args.dropout_rate)(x)\n",
        "    x = BatchNormalization()(x)\n",
        "    x = Dense(args.dense_units, activation=\"relu\")(x)\n",
        "    x = Dropout(args.dropout_rate)(x)\n",
        "    x = BatchNormalization()(x)\n",
        "    x = Dense(1, activation=\"sigmoid\")(x)\n",
        "    \n",
        "    #Nabila, please modify this part\n",
        "    model = tf.keras.Sequential([\n",
        "        # TODO: add a first dense layer with 16 nodes applying ReLU activation function\n",
        "        tf.keras.layers.Dense(16,activation='relu',input_shape=(NUM_WORDS,)),\n",
        "        # TODO: add a second dense layer with 16 nodes applying ReLU activation function\n",
        "        tf.keras.layers.Dense(16, activation='relu'),  \n",
        "        # TODO: add a last dense layer with only 1 node applying Softmax activation function\n",
        "        tf.keras.layers.Dense(1, activation='sigmoid')\n",
        "    ])\n",
        "\n",
        "    model = Model(inputs=inp, outputs=x)\n",
        "\n",
        "    model.compile(\n",
        "        loss='binary_crossentropy', \n",
        "        # OR 'sparse_categorical_crossentropy' for multiclassifcation\n",
        "        optimizer='adam', \n",
        "        # OR 'RMSprop'\n",
        "        metrics=['accuracy'])\n",
        "    return model\n"
      ],
      "execution_count": 101,
      "outputs": []
    }
  ]
}