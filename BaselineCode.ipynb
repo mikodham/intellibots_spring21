{
  "nbformat": 4,
  "nbformat_minor": 0,
  "metadata": {
    "colab": {
      "name": "Copy of BaselineCode.ipynb",
      "provenance": [],
      "collapsed_sections": [],
      "include_colab_link": true
    },
    "kernelspec": {
      "name": "python3",
      "display_name": "Python 3"
    },
    "language_info": {
      "name": "python"
    }
  },
  "cells": [
    {
      "cell_type": "markdown",
      "metadata": {
        "id": "view-in-github",
        "colab_type": "text"
      },
      "source": [
        "<a href=\"https://colab.research.google.com/github/mikodham/intellibots_spring21/blob/main/BaselineCode.ipynb\" target=\"_parent\"><img src=\"https://colab.research.google.com/assets/colab-badge.svg\" alt=\"Open In Colab\"/></a>"
      ]
    },
    {
      "cell_type": "code",
      "metadata": {
        "id": "kbcfvm7SGDda",
        "colab": {
          "base_uri": "https://localhost:8080/"
        },
        "outputId": "d185ce42-8a9f-4a44-fdbf-388c9ab2cb9c"
      },
      "source": [
        "#REQUIREMENT, #don't forget to turn on gpu\n",
        "!pip3 install nltk sklearn gensim xgboost keras\n"
      ],
      "execution_count": 1,
      "outputs": [
        {
          "output_type": "stream",
          "text": [
            "Requirement already satisfied: nltk in /usr/local/lib/python3.7/dist-packages (3.2.5)\n",
            "Requirement already satisfied: sklearn in /usr/local/lib/python3.7/dist-packages (0.0)\n",
            "Requirement already satisfied: gensim in /usr/local/lib/python3.7/dist-packages (3.6.0)\n",
            "Requirement already satisfied: xgboost in /usr/local/lib/python3.7/dist-packages (0.90)\n",
            "Requirement already satisfied: keras in /usr/local/lib/python3.7/dist-packages (2.4.3)\n",
            "Requirement already satisfied: six in /usr/local/lib/python3.7/dist-packages (from nltk) (1.15.0)\n",
            "Requirement already satisfied: scikit-learn in /usr/local/lib/python3.7/dist-packages (from sklearn) (0.22.2.post1)\n",
            "Requirement already satisfied: numpy>=1.11.3 in /usr/local/lib/python3.7/dist-packages (from gensim) (1.19.5)\n",
            "Requirement already satisfied: smart-open>=1.2.1 in /usr/local/lib/python3.7/dist-packages (from gensim) (5.0.0)\n",
            "Requirement already satisfied: scipy>=0.18.1 in /usr/local/lib/python3.7/dist-packages (from gensim) (1.4.1)\n",
            "Requirement already satisfied: h5py in /usr/local/lib/python3.7/dist-packages (from keras) (3.1.0)\n",
            "Requirement already satisfied: pyyaml in /usr/local/lib/python3.7/dist-packages (from keras) (3.13)\n",
            "Requirement already satisfied: joblib>=0.11 in /usr/local/lib/python3.7/dist-packages (from scikit-learn->sklearn) (1.0.1)\n",
            "Requirement already satisfied: cached-property; python_version < \"3.8\" in /usr/local/lib/python3.7/dist-packages (from h5py->keras) (1.5.2)\n"
          ],
          "name": "stdout"
        }
      ]
    },
    {
      "cell_type": "code",
      "metadata": {
        "id": "2fItHjU0C-8F"
      },
      "source": [
        "try:\n",
        "    %tensorflow_version 2.x\n",
        "except Exception:\n",
        "    pass\n",
        "import tensorflow as tf\n",
        "\n",
        "import os\n",
        "import numpy as np\n",
        "import matplotlib.pyplot as plt\n",
        "import pandas as pd\n",
        "import pprint"
      ],
      "execution_count": 2,
      "outputs": []
    },
    {
      "cell_type": "markdown",
      "metadata": {
        "id": "6APXtMHIJ43o"
      },
      "source": [
        "#PREPROCESSING-Miko\n",
        "1. Download Dataset\n",
        "2. Load Dataset\n",
        "3. Pre-process sentence into features\n",
        "\n"
      ]
    },
    {
      "cell_type": "markdown",
      "metadata": {
        "id": "wdnpMefR4FNh"
      },
      "source": [
        "##1. Load Dataset - REDDIT"
      ]
    },
    {
      "cell_type": "code",
      "metadata": {
        "id": "Ube4tF_nAFjV",
        "colab": {
          "base_uri": "https://localhost:8080/"
        },
        "outputId": "27ded211-354d-4eb8-f1a6-9d1926ea212a"
      },
      "source": [
        "# 1st option, upload on ur gdrive\n",
        "# from google.colab import files\n",
        "# files.upload()\n",
        "# 2nd option, just drag the folder from your folder to drive/content/\n",
        "\n",
        "# 3rd option, git clone\n",
        "!pwd \n",
        "!rm -rf intellibots_spring21 # FOR UPDATING DATASET DO NOT RUN THIS LINE\n",
        "!git clone https://github.com/mikodham/intellibots_spring21/"
      ],
      "execution_count": 6,
      "outputs": [
        {
          "output_type": "stream",
          "text": [
            "/content\n",
            "Cloning into 'intellibots_spring21'...\n",
            "remote: Enumerating objects: 103, done.\u001b[K\n",
            "remote: Counting objects: 100% (103/103), done.\u001b[K\n",
            "remote: Compressing objects: 100% (96/96), done.\u001b[K\n",
            "remote: Total 103 (delta 43), reused 32 (delta 5), pack-reused 0\u001b[K\n",
            "Receiving objects: 100% (103/103), 4.31 MiB | 15.18 MiB/s, done.\n",
            "Resolving deltas: 100% (43/43), done.\n"
          ],
          "name": "stdout"
        }
      ]
    },
    {
      "cell_type": "markdown",
      "metadata": {
        "id": "DKG_iuTZpos1"
      },
      "source": [
        "###Cleaning The Dataset"
      ]
    },
    {
      "cell_type": "code",
      "metadata": {
        "id": "1V-gUNHapmOW"
      },
      "source": [
        ""
      ],
      "execution_count": null,
      "outputs": []
    },
    {
      "cell_type": "code",
      "metadata": {
        "id": "RxOfCr1P4AhI"
      },
      "source": [
        "DATA_FOLDER = '/content/intellibots_spring21/Dataset/'\n",
        "\n",
        "def load_data(dataset_name):\n",
        "    \"\"\"\n",
        "    Load data for NN models, with under sampling from Twitter dataset\n",
        "    :param dataset_name: name of dataset\n",
        "    :return: X, y\n",
        "    \"\"\"\n",
        "    print('Loading text dataset')\n",
        "    if dataset_name == 'twitter':\n",
        "      file_name = DATA_FOLDER + 'sample_data_2.xlsx'\n",
        "      df = pd.read_excel(file_name)\n",
        "      df = df.dropna()\n",
        "      # For balancing #of\n",
        "      # df_pos = df.loc[df['y'] == 1]\n",
        "      # df_neg = df.loc[df['y'] == 0]\n",
        "      # df = pd.concat([df_pos, df_neg.sample(len(df_pos['y']))]) # for balancing\n",
        "      # df = df.sample(frac=1) # can be used for separating train, test later\n",
        "      df=df.drop_duplicates() #remove duplicate sentences\n",
        "      print(df)\n",
        "      X = df['tweets'].to_numpy()\n",
        "      y = df['y'].to_numpy()\n",
        "      return X, y\n",
        "    elif dataset_name == 'reddit':\n",
        "      file_name = DATA_FOLDER + 'sample_data_1.xlsx'\n",
        "      df = pd.read_excel(file_name)\n",
        "      df = df.dropna()\n",
        "      df=df.drop_duplicates() #remove duplicate sentences\n",
        "      print(df)\n",
        "      x1 = df['title'].to_numpy()\n",
        "      x2 = df['usertext'].to_numpy()\n",
        "      y = df['y'].to_numpy()\n",
        "      return (x1, x2), y\n",
        "    else:\n",
        "      raise ValueError(\"Error: unrecognized dataset\")\n"
      ],
      "execution_count": 5,
      "outputs": []
    },
    {
      "cell_type": "code",
      "metadata": {
        "colab": {
          "base_uri": "https://localhost:8080/"
        },
        "id": "480uV37K4cAd",
        "outputId": "540c1f9e-a490-49ce-91a6-0fb6609a8351"
      },
      "source": [
        "X, y = load_data(dataset_name='reddit') # \"args_lstm.dataset\"\n",
        "# print(X[:5])"
      ],
      "execution_count": null,
      "outputs": [
        {
          "output_type": "stream",
          "text": [
            "Loading text dataset\n",
            "                            title  ...  y\n",
            "0           I want to end my life  ...  1\n",
            "1  Call suicide hotline for help   ...  0\n",
            "2                I love this song  ...  0\n",
            "3  I will commit suicide tomorrow  ...  1\n",
            "\n",
            "[4 rows x 3 columns]\n",
            "(array(['I want to end my life', 'Call suicide hotline for help ',\n",
            "       'I love this song', 'I will commit suicide tomorrow'], dtype=object), array([\"I'm a loser. I don't want to live.\",\n",
            "       'Don’t give up. Try to make change. Call the hotline if you need help.',\n",
            "       'It sounds great.', \"I'll never wake up the day after tomorrow.\"],\n",
            "      dtype=object))\n"
          ],
          "name": "stdout"
        }
      ]
    },
    {
      "cell_type": "code",
      "metadata": {
        "id": "kJwxNS3eEUEQ"
      },
      "source": [
        "# TODO: Find the right data structure to match tensorflow dataset, so that the train and test data\n",
        "# will be trainable"
      ],
      "execution_count": null,
      "outputs": []
    },
    {
      "cell_type": "markdown",
      "metadata": {
        "id": "L4Ehvsc2oJ9k"
      },
      "source": [
        "# Features Extraction"
      ]
    },
    {
      "cell_type": "code",
      "metadata": {
        "id": "mhl4_AEjoO-z"
      },
      "source": [
        "def f_pos(data, tags_all):\n",
        "    tag_dict, tag_count, tag_count_body = {}, {}, {}\n",
        "    for tag in tqdm(tags_all):\n",
        "        tag_dict[tag] = 0\n",
        "        tag_count[tag] = []\n",
        "        tag_count_body[tag] = []\n",
        "    for title in tqdm(data['title']):\n",
        "        tagged_text = nltk.pos_tag(nltk.word_tokenize(title))\n",
        "        for word, tag in tagged_text:\n",
        "            tag_dict[tag] += 1\n",
        "        for count, tag in zip(tag_dict.values(), tag_dict.keys()):\n",
        "            tag_count[tag].append(count)\n",
        "    for tag in tags_all:\n",
        "        tag_dict[tag] = 0\n",
        "    for body in tqdm(data['usertext']):\n",
        "        for para in body:\n",
        "            tagged_text = nltk.pos_tag(nltk.word_tokenize(para))\n",
        "            for word, tag in tagged_text:\n",
        "                tag_dict[tag] += 1\n",
        "        for count, tag in zip(tag_dict.values(), tag_dict.keys()):\n",
        "            tag_count_body[tag].append(count)\n",
        "    return pd.concat((pd.DataFrame(tag_count, index=None), pd.DataFrame(tag_count_body, index=None)), axis=1)"
      ],
      "execution_count": null,
      "outputs": []
    },
    {
      "cell_type": "markdown",
      "metadata": {
        "id": "kUdww3ymJ_DH"
      },
      "source": [
        "#RNN"
      ]
    },
    {
      "cell_type": "code",
      "metadata": {
        "id": "0lLsAQHfKFQG"
      },
      "source": [
        "def build_RNN(args):\n",
        "    # TODO: Tim, please modify this part use tf.keras instead of keras.model\n",
        "    # model = tf.keras.Sequential([\n",
        "    #     tf.keras.layers.Dense(16,activation='relu',input_shape=(NUM_WORDS,)),\n",
        "    # ])\n",
        "    inp1 = tf.keras.layers.Input(shape=(args.max_seq_len, ))\n",
        "    inp2 = tf.keras.kayers.Input(shape=(args.max_seq_len, ))\n",
        "    x1 = tf.keras.layers.Embedding(args.max_num_words, args.embedding_dim)(inp1)\n",
        "    x2 = tf.keras.layers.Embedding(args.max_num_words, args.embedding_dim)(inp2)\n",
        "    x1 = tf.keras.layers.SimpleRNN(args.rnn_units, return_sequences=True)(x1)\n",
        "    x2 = tf.keras.layers.SimpleRNN(args.rnn_units, return_sequences=True)(x2)\n",
        "    x = tf.keras.layers.concatenate([x1, x2])\n",
        "    x = tf.keras.layers.GlobalMaxPool1D()(x)\n",
        "    x = tf.keras.layers.Dropout(args.dropout_rate)(x)\n",
        "    x = tf.keras.layers.BatchNormalization()(x)\n",
        "    x = tf.keras.layers.Dense(args.dense_units, activation=\"relu\")(x)\n",
        "    x = tf.keras.layers.Dropout(args.dropout_rate)(x)\n",
        "    x = tf.keras.layers.BatchNormalization()(x)\n",
        "    x = tf.keras.layers.Dense(1, activation=\"sigmoid\")(x)\n",
        "    model = tf.keras.models.Model(inputs=[inp1, inp2], outputs=x)\n",
        "\n",
        "\n",
        "    model.compile(loss='binary_crossentropy', optimizer='adam', metrics=['accuracy'])\n",
        "    return model"
      ],
      "execution_count": null,
      "outputs": []
    },
    {
      "cell_type": "code",
      "metadata": {
        "id": "qBfw9IzMIlLO"
      },
      "source": [
        ""
      ],
      "execution_count": null,
      "outputs": []
    },
    {
      "cell_type": "markdown",
      "metadata": {
        "id": "Nbc-_w18KBat"
      },
      "source": [
        "#LSTM"
      ]
    },
    {
      "cell_type": "code",
      "metadata": {
        "id": "JL3TLLAYE5Q6"
      },
      "source": [
        "import numpy as np\n",
        "from tqdm import tqdm\n",
        "from tabulate import tabulate\n",
        "from sklearn.model_selection import KFold\n",
        "from keras.models import Model\n",
        "from keras.layers import Dense, Embedding, Input\n",
        "from keras.layers import LSTM, GlobalMaxPool1D, Dropout, BatchNormalization\n",
        "from keras.preprocessing import text, sequence\n",
        "from keras.callbacks import EarlyStopping"
      ],
      "execution_count": null,
      "outputs": []
    },
    {
      "cell_type": "code",
      "metadata": {
        "id": "UMVsARm1KFou"
      },
      "source": [
        "def build_LSTM(args):\n",
        "    From XiongJi's Github\n",
        "    inp = Input(shape=(args.max_seq_len, ))\n",
        "    # x = Embedding(input_dim=args.max_num_words, output_dim=args.embedding_dim)(inp)\n",
        "    # x = LSTM(units=args.lstm_units, activation='tanh', dropout=args.dropout_rate, return_sequences=True)(x)\n",
        "    # x = GlobalMaxPool1D()(x)\n",
        "    # x = Dropout(args.dropout_rate)(x)\n",
        "    # x = BatchNormalization()(x)\n",
        "    # x = Dense(args.dense_units, activation=\"relu\")(x)\n",
        "    # x = Dropout(args.dropout_rate)(x)\n",
        "    # x = BatchNormalization()(x)\n",
        "    # x = Dense(1, activation=\"sigmoid\")(x)\n",
        "\n",
        "    # TODO: Nabila, please modify this part use tf.keras instead of keras.model\n",
        "    # model = tf.keras.Sequential([\n",
        "    #     tf.keras.layers.Dense(16,activation='relu',input_shape=(NUM_WORDS,)),\n",
        "    # ])\n",
        "\n",
        "    model = Model(inputs=inp, outputs=x)\n",
        "\n",
        "    model.compile(\n",
        "        loss='binary_crossentropy', \n",
        "        # OR 'sparse_categorical_crossentropy' for multiclassifcation\n",
        "        optimizer='adam', \n",
        "        # OR 'RMSprop'\n",
        "        metrics=['accuracy'])\n",
        "    return model\n"
      ],
      "execution_count": null,
      "outputs": []
    },
    {
      "cell_type": "code",
      "metadata": {
        "id": "2oTdyYhUIkrj"
      },
      "source": [
        ""
      ],
      "execution_count": null,
      "outputs": []
    },
    {
      "cell_type": "markdown",
      "metadata": {
        "id": "dL_LqgWAJJQ8"
      },
      "source": [
        "# RUN For Reddit"
      ]
    },
    {
      "cell_type": "code",
      "metadata": {
        "id": "zUw4XpZZJMk-"
      },
      "source": [
        "# TODO: Find the right shuffling method and training method\n",
        "\n",
        "title_train = X1[train_ix]\n",
        "title_test = X1[test_ix]\n",
        "usertext_train = X2[train_ix]\n",
        "usertext_test = X2[test_ix]\n",
        "y_train = y[train_ix]\n",
        "y_test = y[test_ix]\n",
        "\n",
        "tokenizer = text.Tokenizer(num_words=args_rnn.max_num_words)\n",
        "tokenizer.fit_on_texts(list(title_train)+list(usertext_train))\n",
        "tokenized_title_train = tokenizer.texts_to_sequences(title_train)\n",
        "tokenized_title_test = tokenizer.texts_to_sequences(title_test)\n",
        "tokenized_usertext_train = tokenizer.texts_to_sequences(usertext_train)\n",
        "tokenized_usertext_test = tokenizer.texts_to_sequences(usertext_test)\n",
        "X1_train = sequence.pad_sequences(tokenized_title_train, maxlen=args_rnn.max_seq_len, dtype='float64')\n",
        "X1_test = sequence.pad_sequences(tokenized_title_test, maxlen=args_rnn.max_seq_len, dtype='float64')\n",
        "X2_train = sequence.pad_sequences(tokenized_usertext_train, maxlen=args_rnn.max_seq_len, dtype='float64')\n",
        "X2_test = sequence.pad_sequences(tokenized_usertext_test, maxlen=args_rnn.max_seq_len, dtype='float64')\n",
        "\n",
        "# train model and predict\n",
        "model = build_RNN(args=args_rnn)\n",
        "early = EarlyStopping(monitor=\"val_loss\", mode=\"min\", patience=20)\n",
        "model.fit([X1_train, X2_train], y_train, batch_size=args_rnn.batch_size, epochs=args_rnn.epochs,\n",
        "          validation_split=0.1, callbacks=[early])\n",
        "\n",
        "y_pred = model.predict([X1_test, X2_test]).reshape(y_test.shape)"
      ],
      "execution_count": null,
      "outputs": []
    }
  ]
}